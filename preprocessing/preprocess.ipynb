{
 "cells": [
  {
   "attachments": {},
   "cell_type": "markdown",
   "metadata": {},
   "source": [
    "# Preprocessing the Takei mESC data at 1Mb resolution\n",
    "1) Read the FOF-CT CSV data of the two replicates into the alabtools chromatin tracing (CT) file.\n",
    "2) Merge the two replicates into a single file.\n",
    "3) Derive volumetric data from the tracing (volumes of the cell nucleus) creating an alabtools file CTENV (chromatin tracing envelope).\n",
    "4) Clean up the data by removing cells with weird volumes.\n",
    "5) Phase the CtFile (maternal and paternal alleles)."
   ]
  },
  {
   "cell_type": "code",
   "execution_count": 12,
   "metadata": {},
   "outputs": [],
   "source": [
    "import os\n",
    "import numpy as np\n",
    "import copy\n",
    "from matplotlib import pyplot as plt\n",
    "from alabtools.imaging import CtFile, CtEnvelope"
   ]
  },
  {
   "cell_type": "code",
   "execution_count": 2,
   "metadata": {},
   "outputs": [],
   "source": [
    "%matplotlib inline"
   ]
  },
  {
   "attachments": {},
   "cell_type": "markdown",
   "metadata": {},
   "source": [
    "## PART 1: Read the FOF-CT CSV data into CT files"
   ]
  },
  {
   "cell_type": "code",
   "execution_count": 2,
   "metadata": {},
   "outputs": [],
   "source": [
    "# Initialize the CtFile objects\n",
    "ct1 = CtFile('takei_1Mb_rep1.ct', 'w')\n",
    "ct2 = CtFile('takei_1Mb_rep2.ct', 'w')"
   ]
  },
  {
   "cell_type": "code",
   "execution_count": 3,
   "metadata": {},
   "outputs": [
    {
     "name": "stdout",
     "output_type": "stream",
     "text": [
      "Assembly mm10 found in alabtools/genomes. Using this.\n"
     ]
    },
    {
     "name": "stderr",
     "output_type": "stream",
     "text": [
      "chroms or lengths not given, reading from genomes info file.\n"
     ]
    },
    {
     "name": "stdout",
     "output_type": "stream",
     "text": [
      "Assembly mm10 found in alabtools/genomes. Using this.\n"
     ]
    },
    {
     "name": "stderr",
     "output_type": "stream",
     "text": [
      "chroms or lengths not given, reading from genomes info file.\n"
     ]
    }
   ],
   "source": [
    "# Read the FOF-CT files\n",
    "ct1.set_from_fofct('takei_mesc_DNA-tracing_1Mb_rep1.csv')\n",
    "ct2.set_from_fofct('takei_mesc_DNA-tracing_1Mb_rep2.csv')"
   ]
  },
  {
   "cell_type": "code",
   "execution_count": 5,
   "metadata": {},
   "outputs": [
    {
     "name": "stdout",
     "output_type": "stream",
     "text": [
      "ct1:\n",
      "ncell = 201\n",
      "ndomain = 2460\n",
      "nspot_tot = 705143\n",
      "ntrace_tot = 4019\n",
      "nspot_max = 10\n",
      "ncopy_max = 1\n",
      "cell_labels.shape = (201,)\n",
      "ncopy.shape = (201, 2460)\n",
      "nspot.shape = (201, 2460, 1)\n",
      "coordinates.shape = (201, 2460, 1, 10, 3)\n",
      "coordinates[0, 0, 0, 0, 0] = 174.119\n",
      "\n",
      "\n",
      "ct2:\n",
      "ncell = 245\n",
      "ndomain = 2460\n",
      "nspot_tot = 1090085\n",
      "ntrace_tot = 4900\n",
      "nspot_max = 15\n",
      "ncopy_max = 1\n",
      "cell_labels.shape = (245,)\n",
      "ncopy.shape = (245, 2460)\n",
      "nspot.shape = (245, 2460, 1)\n",
      "coordinates.shape = (245, 2460, 1, 15, 3)\n",
      "coordinates[0, 0, 0, 0, 0] = 158.7\n"
     ]
    }
   ],
   "source": [
    "# Print the attributes of the CtFile objects\n",
    "print('ct1:')\n",
    "print('ncell =', ct1.ncell)\n",
    "print('ndomain =', ct1.ndomain)\n",
    "print('nspot_tot =', ct1.nspot_tot)\n",
    "print('ntrace_tot =', ct1.ntrace_tot)\n",
    "print('nspot_max =', ct1.nspot_max)\n",
    "print('ncopy_max =', ct1.ncopy_max)\n",
    "print('cell_labels.shape =', ct1.cell_labels.shape)\n",
    "print('ncopy.shape =', ct1.ncopy.shape)\n",
    "print('nspot.shape =', ct1.nspot.shape)\n",
    "print('coordinates.shape =', ct1.coordinates.shape)\n",
    "print('coordinates[0, 0, 0, 0, 0] =', ct1.coordinates[0, 0, 0, 0, 0])\n",
    "\n",
    "print('\\n')\n",
    "\n",
    "print('ct2:')\n",
    "print('ncell =', ct2.ncell)\n",
    "print('ndomain =', ct2.ndomain)\n",
    "print('nspot_tot =', ct2.nspot_tot)\n",
    "print('ntrace_tot =', ct2.ntrace_tot)\n",
    "print('nspot_max =', ct2.nspot_max)\n",
    "print('ncopy_max =', ct2.ncopy_max)\n",
    "print('cell_labels.shape =', ct2.cell_labels.shape)\n",
    "print('ncopy.shape =', ct2.ncopy.shape)\n",
    "print('nspot.shape =', ct2.nspot.shape)\n",
    "print('coordinates.shape =', ct2.coordinates.shape)\n",
    "print('coordinates[0, 0, 0, 0, 0] =', ct2.coordinates[0, 0, 0, 0, 0])"
   ]
  },
  {
   "cell_type": "code",
   "execution_count": 6,
   "metadata": {},
   "outputs": [],
   "source": [
    "# Close the CtFile objects\n",
    "ct1.close()\n",
    "ct2.close()"
   ]
  },
  {
   "attachments": {},
   "cell_type": "markdown",
   "metadata": {},
   "source": [
    "## PART 2: Merge the two replicates into a single file"
   ]
  },
  {
   "cell_type": "code",
   "execution_count": 7,
   "metadata": {},
   "outputs": [],
   "source": [
    "# Load the CtFile objects\n",
    "ct1 = CtFile('takei_1Mb_rep1.ct', 'r')\n",
    "ct2 = CtFile('takei_1Mb_rep2.ct', 'r')"
   ]
  },
  {
   "cell_type": "code",
   "execution_count": 8,
   "metadata": {},
   "outputs": [],
   "source": [
    "# Merge the CtFile objects\n",
    "ct = ct1.merge(ct2, 'takei_1Mb_comb.ct', tag1='_rep1', tag2='_rep2')"
   ]
  },
  {
   "cell_type": "code",
   "execution_count": 9,
   "metadata": {},
   "outputs": [
    {
     "name": "stdout",
     "output_type": "stream",
     "text": [
      "ct:\n",
      "ncell = 446\n",
      "ndomain = 2460\n",
      "nspot_tot = 1795228\n",
      "ntrace_tot = 8919\n",
      "nspot_max = 15\n",
      "ncopy_max = 1\n",
      "cell_labels.shape = (446,)\n",
      "ncopy.shape = (446, 2460)\n",
      "nspot.shape = (446, 2460, 1)\n",
      "coordinates.shape = (446, 2460, 1, 15, 3)\n",
      "coordinates[0, 0, 0, 0, 0] = 174.119\n"
     ]
    }
   ],
   "source": [
    "# Print attributes of the merged CtFile object\n",
    "print('ct:')\n",
    "print('ncell =', ct.ncell)\n",
    "print('ndomain =', ct.ndomain)\n",
    "print('nspot_tot =', ct.nspot_tot)\n",
    "print('ntrace_tot =', ct.ntrace_tot)\n",
    "print('nspot_max =', ct.nspot_max)\n",
    "print('ncopy_max =', ct.ncopy_max)\n",
    "print('cell_labels.shape =', ct.cell_labels.shape)\n",
    "print('ncopy.shape =', ct.ncopy.shape)\n",
    "print('nspot.shape =', ct.nspot.shape)\n",
    "print('coordinates.shape =', ct.coordinates.shape)\n",
    "print('coordinates[0, 0, 0, 0, 0] =', ct.coordinates[0, 0, 0, 0, 0])"
   ]
  },
  {
   "cell_type": "code",
   "execution_count": 10,
   "metadata": {},
   "outputs": [
    {
     "name": "stdout",
     "output_type": "stream",
     "text": [
      "ct1:\n",
      "['0_1' '0_10' '0_11' '0_12' '0_13' '0_14' '0_15' '0_16' '0_17' '0_18'\n",
      " '0_19' '0_2' '0_20' '0_21' '0_22' '0_23' '0_24' '0_25' '0_26' '0_27'\n",
      " '0_28' '0_29' '0_3' '0_30' '0_31' '0_32' '0_33' '0_34' '0_35' '0_36'\n",
      " '0_37' '0_38' '0_39' '0_4' '0_40' '0_41' '0_42' '0_43' '0_44' '0_45'\n",
      " '0_46' '0_5' '0_6' '0_7' '0_8' '0_9' '1_1' '1_10' '1_11' '1_12' '1_13'\n",
      " '1_14' '1_15' '1_16' '1_17' '1_18' '1_19' '1_2' '1_20' '1_21' '1_22'\n",
      " '1_23' '1_24' '1_25' '1_26' '1_27' '1_28' '1_29' '1_3' '1_30' '1_31'\n",
      " '1_32' '1_33' '1_34' '1_35' '1_36' '1_37' '1_4' '1_5' '1_6' '1_7' '1_8'\n",
      " '1_9' '2_1' '2_10' '2_11' '2_12' '2_13' '2_14' '2_15' '2_16' '2_17'\n",
      " '2_18' '2_19' '2_2' '2_20' '2_21' '2_22' '2_23' '2_24' '2_25' '2_26'\n",
      " '2_27' '2_28' '2_29' '2_3' '2_30' '2_31' '2_32' '2_33' '2_34' '2_35'\n",
      " '2_36' '2_37' '2_38' '2_39' '2_4' '2_40' '2_41' '2_42' '2_43' '2_44'\n",
      " '2_45' '2_46' '2_5' '2_6' '2_7' '2_8' '2_9' '3_1' '3_10' '3_11' '3_12'\n",
      " '3_13' '3_14' '3_15' '3_16' '3_17' '3_18' '3_19' '3_2' '3_20' '3_21'\n",
      " '3_22' '3_23' '3_24' '3_25' '3_26' '3_27' '3_28' '3_29' '3_3' '3_30'\n",
      " '3_31' '3_32' '3_33' '3_34' '3_35' '3_36' '3_37' '3_38' '3_39' '3_4'\n",
      " '3_40' '3_41' '3_5' '3_6' '3_7' '3_8' '3_9' '4_1' '4_10' '4_11' '4_12'\n",
      " '4_13' '4_14' '4_15' '4_16' '4_17' '4_18' '4_19' '4_2' '4_20' '4_21'\n",
      " '4_22' '4_23' '4_24' '4_25' '4_26' '4_27' '4_28' '4_29' '4_3' '4_30'\n",
      " '4_31' '4_4' '4_5' '4_6' '4_7' '4_8' '4_9']\n",
      "\n",
      "\n",
      "ct2:\n",
      "['0_1' '0_10' '0_11' '0_12' '0_13' '0_14' '0_15' '0_16' '0_17' '0_18'\n",
      " '0_19' '0_2' '0_20' '0_21' '0_22' '0_23' '0_24' '0_25' '0_26' '0_27'\n",
      " '0_28' '0_29' '0_3' '0_30' '0_31' '0_32' '0_33' '0_34' '0_35' '0_36'\n",
      " '0_4' '0_5' '0_6' '0_7' '0_8' '0_9' '1_1' '1_10' '1_11' '1_12' '1_13'\n",
      " '1_14' '1_15' '1_16' '1_17' '1_18' '1_19' '1_2' '1_20' '1_21' '1_22'\n",
      " '1_23' '1_24' '1_25' '1_26' '1_27' '1_28' '1_29' '1_3' '1_30' '1_31'\n",
      " '1_32' '1_33' '1_34' '1_35' '1_36' '1_37' '1_38' '1_39' '1_4' '1_40'\n",
      " '1_41' '1_42' '1_43' '1_44' '1_45' '1_46' '1_47' '1_48' '1_49' '1_5'\n",
      " '1_50' '1_51' '1_6' '1_7' '1_8' '1_9' '2_1' '2_10' '2_11' '2_12' '2_13'\n",
      " '2_14' '2_15' '2_16' '2_17' '2_18' '2_19' '2_2' '2_20' '2_21' '2_22'\n",
      " '2_23' '2_24' '2_25' '2_26' '2_27' '2_28' '2_29' '2_3' '2_30' '2_31'\n",
      " '2_4' '2_5' '2_6' '2_7' '2_8' '2_9' '3_1' '3_10' '3_11' '3_12' '3_13'\n",
      " '3_14' '3_15' '3_16' '3_17' '3_18' '3_19' '3_2' '3_20' '3_21' '3_22'\n",
      " '3_23' '3_24' '3_25' '3_26' '3_27' '3_28' '3_29' '3_3' '3_30' '3_31'\n",
      " '3_32' '3_33' '3_34' '3_35' '3_36' '3_37' '3_38' '3_39' '3_4' '3_40'\n",
      " '3_41' '3_42' '3_43' '3_44' '3_45' '3_46' '3_47' '3_48' '3_49' '3_5'\n",
      " '3_50' '3_51' '3_6' '3_7' '3_8' '3_9' '4_1' '4_10' '4_11' '4_12' '4_13'\n",
      " '4_14' '4_15' '4_16' '4_17' '4_18' '4_19' '4_2' '4_20' '4_21' '4_22'\n",
      " '4_23' '4_24' '4_25' '4_26' '4_27' '4_28' '4_29' '4_3' '4_30' '4_31'\n",
      " '4_32' '4_33' '4_34' '4_35' '4_36' '4_37' '4_38' '4_4' '4_5' '4_6' '4_7'\n",
      " '4_8' '4_9' '5_1' '5_10' '5_11' '5_12' '5_13' '5_14' '5_15' '5_16' '5_17'\n",
      " '5_18' '5_19' '5_2' '5_20' '5_21' '5_22' '5_23' '5_24' '5_25' '5_26'\n",
      " '5_27' '5_28' '5_29' '5_3' '5_30' '5_31' '5_32' '5_33' '5_34' '5_35'\n",
      " '5_36' '5_37' '5_38' '5_4' '5_5' '5_6' '5_7' '5_8' '5_9']\n",
      "\n",
      "\n",
      "ct:\n",
      "['0_1_rep1' '0_10_rep1' '0_11_rep1' '0_12_rep1' '0_13_rep1' '0_14_rep1'\n",
      " '0_15_rep1' '0_16_rep1' '0_17_rep1' '0_18_rep1' '0_19_rep1' '0_2_rep1'\n",
      " '0_20_rep1' '0_21_rep1' '0_22_rep1' '0_23_rep1' '0_24_rep1' '0_25_rep1'\n",
      " '0_26_rep1' '0_27_rep1' '0_28_rep1' '0_29_rep1' '0_3_rep1' '0_30_rep1'\n",
      " '0_31_rep1' '0_32_rep1' '0_33_rep1' '0_34_rep1' '0_35_rep1' '0_36_rep1'\n",
      " '0_37_rep1' '0_38_rep1' '0_39_rep1' '0_4_rep1' '0_40_rep1' '0_41_rep1'\n",
      " '0_42_rep1' '0_43_rep1' '0_44_rep1' '0_45_rep1' '0_46_rep1' '0_5_rep1'\n",
      " '0_6_rep1' '0_7_rep1' '0_8_rep1' '0_9_rep1' '1_1_rep1' '1_10_rep1'\n",
      " '1_11_rep1' '1_12_rep1' '1_13_rep1' '1_14_rep1' '1_15_rep1' '1_16_rep1'\n",
      " '1_17_rep1' '1_18_rep1' '1_19_rep1' '1_2_rep1' '1_20_rep1' '1_21_rep1'\n",
      " '1_22_rep1' '1_23_rep1' '1_24_rep1' '1_25_rep1' '1_26_rep1' '1_27_rep1'\n",
      " '1_28_rep1' '1_29_rep1' '1_3_rep1' '1_30_rep1' '1_31_rep1' '1_32_rep1'\n",
      " '1_33_rep1' '1_34_rep1' '1_35_rep1' '1_36_rep1' '1_37_rep1' '1_4_rep1'\n",
      " '1_5_rep1' '1_6_rep1' '1_7_rep1' '1_8_rep1' '1_9_rep1' '2_1_rep1'\n",
      " '2_10_rep1' '2_11_rep1' '2_12_rep1' '2_13_rep1' '2_14_rep1' '2_15_rep1'\n",
      " '2_16_rep1' '2_17_rep1' '2_18_rep1' '2_19_rep1' '2_2_rep1' '2_20_rep1'\n",
      " '2_21_rep1' '2_22_rep1' '2_23_rep1' '2_24_rep1' '2_25_rep1' '2_26_rep1'\n",
      " '2_27_rep1' '2_28_rep1' '2_29_rep1' '2_3_rep1' '2_30_rep1' '2_31_rep1'\n",
      " '2_32_rep1' '2_33_rep1' '2_34_rep1' '2_35_rep1' '2_36_rep1' '2_37_rep1'\n",
      " '2_38_rep1' '2_39_rep1' '2_4_rep1' '2_40_rep1' '2_41_rep1' '2_42_rep1'\n",
      " '2_43_rep1' '2_44_rep1' '2_45_rep1' '2_46_rep1' '2_5_rep1' '2_6_rep1'\n",
      " '2_7_rep1' '2_8_rep1' '2_9_rep1' '3_1_rep1' '3_10_rep1' '3_11_rep1'\n",
      " '3_12_rep1' '3_13_rep1' '3_14_rep1' '3_15_rep1' '3_16_rep1' '3_17_rep1'\n",
      " '3_18_rep1' '3_19_rep1' '3_2_rep1' '3_20_rep1' '3_21_rep1' '3_22_rep1'\n",
      " '3_23_rep1' '3_24_rep1' '3_25_rep1' '3_26_rep1' '3_27_rep1' '3_28_rep1'\n",
      " '3_29_rep1' '3_3_rep1' '3_30_rep1' '3_31_rep1' '3_32_rep1' '3_33_rep1'\n",
      " '3_34_rep1' '3_35_rep1' '3_36_rep1' '3_37_rep1' '3_38_rep1' '3_39_rep1'\n",
      " '3_4_rep1' '3_40_rep1' '3_41_rep1' '3_5_rep1' '3_6_rep1' '3_7_rep1'\n",
      " '3_8_rep1' '3_9_rep1' '4_1_rep1' '4_10_rep1' '4_11_rep1' '4_12_rep1'\n",
      " '4_13_rep1' '4_14_rep1' '4_15_rep1' '4_16_rep1' '4_17_rep1' '4_18_rep1'\n",
      " '4_19_rep1' '4_2_rep1' '4_20_rep1' '4_21_rep1' '4_22_rep1' '4_23_rep1'\n",
      " '4_24_rep1' '4_25_rep1' '4_26_rep1' '4_27_rep1' '4_28_rep1' '4_29_rep1'\n",
      " '4_3_rep1' '4_30_rep1' '4_31_rep1' '4_4_rep1' '4_5_rep1' '4_6_rep1'\n",
      " '4_7_rep1' '4_8_rep1' '4_9_rep1' '0_1_rep2' '0_10_rep2' '0_11_rep2'\n",
      " '0_12_rep2' '0_13_rep2' '0_14_rep2' '0_15_rep2' '0_16_rep2' '0_17_rep2'\n",
      " '0_18_rep2' '0_19_rep2' '0_2_rep2' '0_20_rep2' '0_21_rep2' '0_22_rep2'\n",
      " '0_23_rep2' '0_24_rep2' '0_25_rep2' '0_26_rep2' '0_27_rep2' '0_28_rep2'\n",
      " '0_29_rep2' '0_3_rep2' '0_30_rep2' '0_31_rep2' '0_32_rep2' '0_33_rep2'\n",
      " '0_34_rep2' '0_35_rep2' '0_36_rep2' '0_4_rep2' '0_5_rep2' '0_6_rep2'\n",
      " '0_7_rep2' '0_8_rep2' '0_9_rep2' '1_1_rep2' '1_10_rep2' '1_11_rep2'\n",
      " '1_12_rep2' '1_13_rep2' '1_14_rep2' '1_15_rep2' '1_16_rep2' '1_17_rep2'\n",
      " '1_18_rep2' '1_19_rep2' '1_2_rep2' '1_20_rep2' '1_21_rep2' '1_22_rep2'\n",
      " '1_23_rep2' '1_24_rep2' '1_25_rep2' '1_26_rep2' '1_27_rep2' '1_28_rep2'\n",
      " '1_29_rep2' '1_3_rep2' '1_30_rep2' '1_31_rep2' '1_32_rep2' '1_33_rep2'\n",
      " '1_34_rep2' '1_35_rep2' '1_36_rep2' '1_37_rep2' '1_38_rep2' '1_39_rep2'\n",
      " '1_4_rep2' '1_40_rep2' '1_41_rep2' '1_42_rep2' '1_43_rep2' '1_44_rep2'\n",
      " '1_45_rep2' '1_46_rep2' '1_47_rep2' '1_48_rep2' '1_49_rep2' '1_5_rep2'\n",
      " '1_50_rep2' '1_51_rep2' '1_6_rep2' '1_7_rep2' '1_8_rep2' '1_9_rep2'\n",
      " '2_1_rep2' '2_10_rep2' '2_11_rep2' '2_12_rep2' '2_13_rep2' '2_14_rep2'\n",
      " '2_15_rep2' '2_16_rep2' '2_17_rep2' '2_18_rep2' '2_19_rep2' '2_2_rep2'\n",
      " '2_20_rep2' '2_21_rep2' '2_22_rep2' '2_23_rep2' '2_24_rep2' '2_25_rep2'\n",
      " '2_26_rep2' '2_27_rep2' '2_28_rep2' '2_29_rep2' '2_3_rep2' '2_30_rep2'\n",
      " '2_31_rep2' '2_4_rep2' '2_5_rep2' '2_6_rep2' '2_7_rep2' '2_8_rep2'\n",
      " '2_9_rep2' '3_1_rep2' '3_10_rep2' '3_11_rep2' '3_12_rep2' '3_13_rep2'\n",
      " '3_14_rep2' '3_15_rep2' '3_16_rep2' '3_17_rep2' '3_18_rep2' '3_19_rep2'\n",
      " '3_2_rep2' '3_20_rep2' '3_21_rep2' '3_22_rep2' '3_23_rep2' '3_24_rep2'\n",
      " '3_25_rep2' '3_26_rep2' '3_27_rep2' '3_28_rep2' '3_29_rep2' '3_3_rep2'\n",
      " '3_30_rep2' '3_31_rep2' '3_32_rep2' '3_33_rep2' '3_34_rep2' '3_35_rep2'\n",
      " '3_36_rep2' '3_37_rep2' '3_38_rep2' '3_39_rep2' '3_4_rep2' '3_40_rep2'\n",
      " '3_41_rep2' '3_42_rep2' '3_43_rep2' '3_44_rep2' '3_45_rep2' '3_46_rep2'\n",
      " '3_47_rep2' '3_48_rep2' '3_49_rep2' '3_5_rep2' '3_50_rep2' '3_51_rep2'\n",
      " '3_6_rep2' '3_7_rep2' '3_8_rep2' '3_9_rep2' '4_1_rep2' '4_10_rep2'\n",
      " '4_11_rep2' '4_12_rep2' '4_13_rep2' '4_14_rep2' '4_15_rep2' '4_16_rep2'\n",
      " '4_17_rep2' '4_18_rep2' '4_19_rep2' '4_2_rep2' '4_20_rep2' '4_21_rep2'\n",
      " '4_22_rep2' '4_23_rep2' '4_24_rep2' '4_25_rep2' '4_26_rep2' '4_27_rep2'\n",
      " '4_28_rep2' '4_29_rep2' '4_3_rep2' '4_30_rep2' '4_31_rep2' '4_32_rep2'\n",
      " '4_33_rep2' '4_34_rep2' '4_35_rep2' '4_36_rep2' '4_37_rep2' '4_38_rep2'\n",
      " '4_4_rep2' '4_5_rep2' '4_6_rep2' '4_7_rep2' '4_8_rep2' '4_9_rep2'\n",
      " '5_1_rep2' '5_10_rep2' '5_11_rep2' '5_12_rep2' '5_13_rep2' '5_14_rep2'\n",
      " '5_15_rep2' '5_16_rep2' '5_17_rep2' '5_18_rep2' '5_19_rep2' '5_2_rep2'\n",
      " '5_20_rep2' '5_21_rep2' '5_22_rep2' '5_23_rep2' '5_24_rep2' '5_25_rep2'\n",
      " '5_26_rep2' '5_27_rep2' '5_28_rep2' '5_29_rep2' '5_3_rep2' '5_30_rep2'\n",
      " '5_31_rep2' '5_32_rep2' '5_33_rep2' '5_34_rep2' '5_35_rep2' '5_36_rep2'\n",
      " '5_37_rep2' '5_38_rep2' '5_4_rep2' '5_5_rep2' '5_6_rep2' '5_7_rep2'\n",
      " '5_8_rep2' '5_9_rep2']\n"
     ]
    }
   ],
   "source": [
    "# Print the cell labels of ct1, ct2, and ct\n",
    "print('ct1:')\n",
    "print(ct1.cell_labels)\n",
    "\n",
    "print('\\n')\n",
    "\n",
    "print('ct2:')\n",
    "print(ct2.cell_labels)\n",
    "\n",
    "print('\\n')\n",
    "\n",
    "print('ct:')\n",
    "print(ct.cell_labels)"
   ]
  },
  {
   "cell_type": "code",
   "execution_count": 11,
   "metadata": {},
   "outputs": [],
   "source": [
    "# Close the CtFile objects\n",
    "ct1.close()\n",
    "ct2.close()\n",
    "ct.close()"
   ]
  },
  {
   "attachments": {},
   "cell_type": "markdown",
   "metadata": {},
   "source": [
    "## PART 3: Derive volumetric data from the tracing"
   ]
  },
  {
   "attachments": {},
   "cell_type": "markdown",
   "metadata": {},
   "source": [
    "Performed in a separate python file because we need to parallelize it."
   ]
  },
  {
   "attachments": {},
   "cell_type": "markdown",
   "metadata": {},
   "source": [
    "## PART 4: Clean up the data by removing cells with weird volumes"
   ]
  },
  {
   "cell_type": "code",
   "execution_count": 3,
   "metadata": {},
   "outputs": [],
   "source": [
    "# Read the CtFile and CtEnvelope objects\n",
    "ct = CtFile('takei_1Mb_comb.ct', 'r')\n",
    "ctenv = CtEnvelope('takei_1Mb_comb.ctenv', 'r')"
   ]
  },
  {
   "cell_type": "code",
   "execution_count": 4,
   "metadata": {},
   "outputs": [],
   "source": [
    "# Read the number of spots per cell and the volume of each cell\n",
    "nspot_per_cell = ct.nspot.sum(axis=1).ravel()\n",
    "volume_per_cell = ctenv.volume\n",
    "assert len(nspot_per_cell) == len(volume_per_cell) == ct.ncell\n",
    "assert nspot_per_cell.shape == volume_per_cell.shape"
   ]
  },
  {
   "cell_type": "code",
   "execution_count": 5,
   "metadata": {},
   "outputs": [
    {
     "data": {
      "image/png": "[encoded data removed]",
      "text/plain": [
       "<Figure size 432x432 with 1 Axes>"
      ]
     },
     "metadata": {
      "needs_background": "light"
     },
     "output_type": "display_data"
    },
    {
     "data": {
      "image/png": "[encoded data removed]",
      "text/plain": [
       "<Figure size 432x432 with 1 Axes>"
      ]
     },
     "metadata": {
      "needs_background": "light"
     },
     "output_type": "display_data"
    }
   ],
   "source": [
    "# Plot the distribution of number of spots per cell and the volume of each cell\n",
    "plt.figure(figsize=(6, 6))\n",
    "plt.hist(nspot_per_cell, bins=len(nspot_per_cell))\n",
    "plt.plot(7000 * np.ones(2), [1, 6], color='red', linestyle='--')\n",
    "plt.xticks(np.arange(0, 11000, 1000))\n",
    "plt.title('Distribution of n. of spots per cell')\n",
    "plt.xlabel('N. of spots')\n",
    "plt.ylabel('Number of cells')\n",
    "plt.show()\n",
    "\n",
    "plt.figure(figsize=(6, 6))\n",
    "plt.hist(volume_per_cell, bins=len(volume_per_cell))\n",
    "plt.plot(200 * np.ones(2), [1, 6], color='red', linestyle='--')\n",
    "plt.plot(720 * np.ones(2), [1, 6], color='red', linestyle='--')\n",
    "plt.xticks(np.arange(0, 1100, 100))\n",
    "plt.title('Distribution of volume per cell')\n",
    "plt.xlabel('Volume')\n",
    "plt.ylabel('Number of cells')\n",
    "plt.show()\n"
   ]
  },
  {
   "attachments": {},
   "cell_type": "markdown",
   "metadata": {},
   "source": [
    "There are some potential outliers in the data:\n",
    "1) Cells with total n. of spot > 7000 seem to be outliers.\n",
    "2) Cells with volume < 200 um^3 and volume > 700 um^3 seem to be outliers.\n",
    "\n",
    "To measure if removing the outliers is good, we can use the Kuncheva index, which is a measure of ordering within two sets of data. The higher the index, the more similar the ordering of the two sets of data.\n",
    "\n",
    "In our data, I expect this behaviour:\n",
    "1) for cells in G1, the volume increases but the number of spots stays constant, so there shouldn't be a correlation;\n",
    "2) for cells in S, both the volume and the number of spots increase, so there should be a correlation;\n",
    "3) for cells in G2, the volume increases but the number of spots stays constant, so there shouldn't be a correlation.\n",
    "So the Kuncheva index should be high for S and low for G1 and G2: if the cells are ordered from low to high volume, the K-index should start low, increase in the middle and then decrease again."
   ]
  },
  {
   "cell_type": "code",
   "execution_count": 6,
   "metadata": {},
   "outputs": [],
   "source": [
    "# Define the Kuncheva function\n",
    "def kuncheva(a, b):\n",
    "    \"\"\"Computes the Kuncheva index between two lists of integers.\n",
    "    \n",
    "    The index is computed as function of the cardinality (k),\n",
    "    i.e. the number of elements in the lists.\n",
    "    \n",
    "    The formula is:\n",
    "        KI(k) = (|A intersect B| - k^2 / |A|) / (k - k^2 / |A|)\n",
    "    (https://www.researchgate.net/publication/221173759_A_stability_index_for_feature_selection)\n",
    "\n",
    "    Args:\n",
    "        a (list or np.array): First list of integers.\n",
    "        b (list or np.array): Second list of integers.\n",
    "\n",
    "    Returns:\n",
    "        kun_list (list): List of Kuncheva indices for each cardinality.\n",
    "    \"\"\"\n",
    "    if len(a) != len(b):\n",
    "        raise Exception('Length of a and b does not match!')\n",
    "    kun_list = list()\n",
    "    for k in range(1, len(a) - 1):\n",
    "        ind = (len(np.intersect1d(a[:k], b[:k])) - k ** 2 / len(a)) / (k - k ** 2 / len(a))\n",
    "        kun_list.append(ind)\n",
    "    return kun_list"
   ]
  },
  {
   "cell_type": "code",
   "execution_count": 7,
   "metadata": {},
   "outputs": [],
   "source": [
    "# Get the ordering of the cells by number of spots and volume from lowest to highest\n",
    "order_nspot = np.argsort(nspot_per_cell)\n",
    "order_volume = np.argsort(volume_per_cell)\n",
    "\n",
    "for i in range(ct.ncell - 1):\n",
    "    assert nspot_per_cell[order_nspot[i]] <= nspot_per_cell[order_nspot[i + 1]]\n",
    "    assert volume_per_cell[order_volume[i]] <= volume_per_cell[order_volume[i + 1]]"
   ]
  },
  {
   "cell_type": "code",
   "execution_count": 8,
   "metadata": {},
   "outputs": [
    {
     "data": {
      "image/png": "[encoded data removed]",
      "text/plain": [
       "<Figure size 432x432 with 1 Axes>"
      ]
     },
     "metadata": {
      "needs_background": "light"
     },
     "output_type": "display_data"
    }
   ],
   "source": [
    "# Plot the Kuncheva index for the ordering by number of spots\n",
    "plt.figure(figsize=(6, 6))\n",
    "plt.plot(kuncheva(order_nspot, order_volume), color='tomato')\n",
    "plt.title('Kuncheva index for ordering by n. of spots')\n",
    "plt.xlabel('k, cardinality')\n",
    "plt.ylabel('Kuncheva index')\n",
    "plt.show()"
   ]
  },
  {
   "attachments": {},
   "cell_type": "markdown",
   "metadata": {},
   "source": [
    "In this plot, the cardinality k can be somewhat associated with the volume (remember that the cells in the k analysis are sorted first by volume and spots).\n",
    "\n",
    "The plot agrees only partially with my expectations: although it's true that overall the trend is increasing first (potentially from G1 to S) and then decreasing (potentially from S to G2), there are two strong peaks at low and high cardinality that are hard to explain.\n",
    "\n",
    "It is possible that - by removing the cells I identified as potential outliers - these peaks will disappear."
   ]
  },
  {
   "cell_type": "code",
   "execution_count": 9,
   "metadata": {},
   "outputs": [
    {
     "name": "stdout",
     "output_type": "stream",
     "text": [
      "Number of outliers in nspot: 7\n",
      "Number of outliers in volume: 10\n",
      "Number of outliers in both: 4\n",
      "Number of outliers in either: 13\n",
      "Cell numbers of outliers:\n",
      "[ 38  73 135 153 212 239 258 262 328 340 342 406 418]\n"
     ]
    }
   ],
   "source": [
    "# Now let's try to remove the potential outliers\n",
    "mask_nspot = nspot_per_cell > 7000\n",
    "mask_volume = np.logical_or(volume_per_cell < 200, volume_per_cell > 720)\n",
    "mask = np.logical_or(mask_nspot, mask_volume)\n",
    "\n",
    "# Check properties of the outliers\n",
    "print('Number of outliers in nspot:', mask_nspot.sum())\n",
    "print('Number of outliers in volume:', mask_volume.sum())\n",
    "print('Number of outliers in both:', np.logical_and(mask_nspot, mask_volume).sum())\n",
    "print('Number of outliers in either:', np.logical_or(mask_nspot, mask_volume).sum())\n",
    "\n",
    "# Get the cell numbers of the outliers\n",
    "outliers = np.where(mask)[0]\n",
    "print('Cell numbers of outliers:')\n",
    "print(outliers)\n",
    "\n",
    "# Save the outliers in a numpy array\n",
    "np.save('outliers.npy', outliers)\n",
    "\n",
    "# Remove the outliers from nspot_per_cell and volume_per_cell\n",
    "nspot_per_cell = nspot_per_cell[~mask]\n",
    "volume_per_cell = volume_per_cell[~mask]"
   ]
  },
  {
   "cell_type": "code",
   "execution_count": 10,
   "metadata": {},
   "outputs": [],
   "source": [
    "# Get the ordering of the cells by number of spots and volume from lowest to highest\n",
    "order_nspot = np.argsort(nspot_per_cell)\n",
    "order_volume = np.argsort(volume_per_cell)\n",
    "\n",
    "for i in range(len(nspot_per_cell) - 1):\n",
    "    assert nspot_per_cell[order_nspot[i]] <= nspot_per_cell[order_nspot[i + 1]]\n",
    "    assert volume_per_cell[order_volume[i]] <= volume_per_cell[order_volume[i + 1]]"
   ]
  },
  {
   "cell_type": "code",
   "execution_count": 11,
   "metadata": {},
   "outputs": [
    {
     "data": {
      "image/png": "[encoded data removed]",
      "text/plain": [
       "<Figure size 432x432 with 1 Axes>"
      ]
     },
     "metadata": {
      "needs_background": "light"
     },
     "output_type": "display_data"
    }
   ],
   "source": [
    "# Plot the Kuncheva index for the ordering by number of spots\n",
    "plt.figure(figsize=(6, 6))\n",
    "plt.plot(kuncheva(order_nspot, order_volume), color='tomato')\n",
    "plt.title('Kuncheva index for ordering by n. of spots (After removing outliers)')\n",
    "plt.xlabel('k, cardinality')\n",
    "plt.ylabel('Kuncheva index')\n",
    "plt.show()"
   ]
  },
  {
   "attachments": {},
   "cell_type": "markdown",
   "metadata": {},
   "source": [
    "The trend now is much more clear, and it is in agreement with my expectations: the K-index increases and then decreases, supporting the intuition of the G1-S-G2 ordering.\n",
    "\n",
    "I am going to continue the analysis by removing these outliers."
   ]
  },
  {
   "cell_type": "code",
   "execution_count": 13,
   "metadata": {},
   "outputs": [],
   "source": [
    "# Close the CtFile\n",
    "ct.close()\n",
    "# Duplicate the CtFile file using os and rename it\n",
    "os.system('cp takei_1Mb_comb.ct takei_1Mb_comb_no-out.ct')\n",
    "# Read the CtFile in write mode\n",
    "ct = CtFile('takei_1Mb_comb_no-out.ct', 'r+')"
   ]
  },
  {
   "cell_type": "code",
   "execution_count": 15,
   "metadata": {},
   "outputs": [],
   "source": [
    "# Change the ctenv file names\n",
    "ctenv.filename = 'takei_1Mb_comb_no-out.ctenv'\n",
    "ctenv.ct_fit = ctenv.ct_fit.replace('takei_1Mb_comb.ct',\n",
    "                                    'takei_1Mb_comb_no-out.ct')"
   ]
  },
  {
   "cell_type": "code",
   "execution_count": 17,
   "metadata": {},
   "outputs": [],
   "source": [
    "# Remove the outliers from the CtFile\n",
    "outliers = np.load('outliers.npy')\n",
    "ct.pop_cells(outliers)\n",
    "ctenv.pop_cells(outliers)"
   ]
  },
  {
   "cell_type": "code",
   "execution_count": 18,
   "metadata": {},
   "outputs": [
    {
     "name": "stdout",
     "output_type": "stream",
     "text": [
      "Trimming spot 14...\n",
      "Trimming spot 13...\n"
     ]
    }
   ],
   "source": [
    "# Trim the CtFile\n",
    "ct.trim()"
   ]
  },
  {
   "cell_type": "code",
   "execution_count": 19,
   "metadata": {},
   "outputs": [
    {
     "name": "stdout",
     "output_type": "stream",
     "text": [
      "ct:\n",
      "ncell = 433\n",
      "ndomain = 2460\n",
      "nspot_tot = 1715341.0\n",
      "ntrace_tot = 8659\n",
      "nspot_max = 13\n",
      "ncopy_max = 1\n",
      "cell_labels.shape = (433,)\n",
      "ncopy.shape = (433, 2460)\n",
      "nspot.shape = (433, 2460, 1)\n",
      "coordinates.shape = (433, 2460, 1, 13, 3)\n",
      "coordinates[0, 0, 0, 0, 0] = 174.119\n",
      "\n",
      "\n",
      "ctenv:\n",
      "ncell = 433\n",
      "fitted = True\n",
      "ct_fit = /u/home/f/fmusella/imaging/preprocessing/takei_1Mb_comb_no-out.ct\n",
      "cell_labels.shape = (433,)\n",
      "alpha.shape = (433,)\n",
      "len(mesh) = 433\n",
      "volume.shape = (433,)\n",
      "volume[0] = 517.1031555401664\n"
     ]
    }
   ],
   "source": [
    "# Print the attributes of the CtFile and CtEnvelope\n",
    "print('ct:')\n",
    "print('ncell =', ct.ncell)\n",
    "print('ndomain =', ct.ndomain)\n",
    "print('nspot_tot =', ct.nspot_tot)\n",
    "print('ntrace_tot =', ct.ntrace_tot)\n",
    "print('nspot_max =', ct.nspot_max)\n",
    "print('ncopy_max =', ct.ncopy_max)\n",
    "print('cell_labels.shape =', ct.cell_labels.shape)\n",
    "print('ncopy.shape =', ct.ncopy.shape)\n",
    "print('nspot.shape =', ct.nspot.shape)\n",
    "print('coordinates.shape =', ct.coordinates.shape)\n",
    "print('coordinates[0, 0, 0, 0, 0] =', ct.coordinates[0, 0, 0, 0, 0])\n",
    "\n",
    "print('\\n')\n",
    "\n",
    "print('ctenv:')\n",
    "print('ncell =', ctenv.ncell)\n",
    "print('fitted =', ctenv.fitted)\n",
    "print('ct_fit =', ctenv.ct_fit)\n",
    "print('cell_labels.shape =', ctenv.cell_labels.shape)\n",
    "print('alpha.shape =', ctenv.alpha.shape)\n",
    "print('len(mesh) =', len(ctenv.mesh))\n",
    "print('volume.shape =', ctenv.volume.shape)\n",
    "print('volume[0] =', ctenv.volume[0])"
   ]
  },
  {
   "cell_type": "code",
   "execution_count": 20,
   "metadata": {},
   "outputs": [],
   "source": [
    "# Close the CtFile and save the CtEnvelope\n",
    "ct.close()\n",
    "ctenv.save()"
   ]
  },
  {
   "attachments": {},
   "cell_type": "markdown",
   "metadata": {},
   "source": [
    "## PART 5: Phase the CtFile (maternal and paternal alleles)"
   ]
  },
  {
   "attachments": {},
   "cell_type": "markdown",
   "metadata": {},
   "source": [
    "Performed in a separate python file because we need to parallelize it."
   ]
  },
  {
   "attachments": {},
   "cell_type": "markdown",
   "metadata": {},
   "source": [
    "## End of preprocessing\n",
    "The files:\n",
    "- takei_1Mb_comb_no-out_phased.ct\n",
    "- takei_1Mb_comb_no-out.ctenv\n",
    "\n",
    "are the final files that will be used for the analysis.\n",
    "\n",
    "I am going to rename them to:\n",
    "\n",
    "- takei_1Mb_final.ct\n",
    "- takei_1Mb_final.ctenv"
   ]
  },
  {
   "cell_type": "code",
   "execution_count": 21,
   "metadata": {},
   "outputs": [],
   "source": [
    "os.system('cp takei_1Mb_comb_no-out_phased.ct takei_1Mb_final.ct')\n",
    "ctenv.filename = 'takei_1Mb_final.ctenv'\n",
    "ctenv.ct_fit = ctenv.ct_fit.replace('takei_1Mb_comb_no-out.ct',\n",
    "                                    'takei_1Mb_final.ct')\n",
    "ctenv.save()"
   ]
  }
 ],
 "metadata": {
  "kernelspec": {
   "display_name": "base",
   "language": "python",
   "name": "python3"
  },
  "language_info": {
   "codemirror_mode": {
    "name": "ipython",
    "version": 3
   },
   "file_extension": ".py",
   "mimetype": "text/x-python",
   "name": "python",
   "nbconvert_exporter": "python",
   "pygments_lexer": "ipython3",
   "version": "3.7.3"
  },
  "orig_nbformat": 4
 },
 "nbformat": 4,
 "nbformat_minor": 2
}
